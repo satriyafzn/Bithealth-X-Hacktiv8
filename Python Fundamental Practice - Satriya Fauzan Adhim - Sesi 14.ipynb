{
 "cells": [
  {
   "cell_type": "markdown",
   "metadata": {},
   "source": [
    "# if"
   ]
  },
  {
   "cell_type": "markdown",
   "metadata": {},
   "source": [
    "\n",
    "### \n",
    "Buatlah program Python yang menerima 2 angka sebagai input, dan print angka yang lebih besar"
   ]
  },
  {
   "cell_type": "code",
   "execution_count": 1,
   "metadata": {},
   "outputs": [],
   "source": [
    "num1 = float(input('enter the first number: '))\n",
    "num2 = float(input('Enter the second number'))"
   ]
  },
  {
   "cell_type": "markdown",
   "metadata": {},
   "source": [
    "###\n",
    "Buatlah program Python yang menerima 2 angka sebagai input, dan print angka yang lebih besar"
   ]
  },
  {
   "cell_type": "code",
   "execution_count": 2,
   "metadata": {},
   "outputs": [
    {
     "name": "stdout",
     "output_type": "stream",
     "text": [
      "3.4 is greater.\n"
     ]
    }
   ],
   "source": [
    "if num1 > num2:\n",
    "    print(f'{num1} is greater.')\n",
    "elif num2 > num1:\n",
    "    print(f\"{num2} is greater.\")\n",
    "else:\n",
    "    print(\"Both numbers are equal.\")"
   ]
  },
  {
   "cell_type": "markdown",
   "metadata": {},
   "source": [
    "###\n",
    "Buatlah program python yang bisa mengecek apakah tahun ini termasuk tahun kabisat atau bukan."
   ]
  },
  {
   "cell_type": "code",
   "execution_count": 3,
   "metadata": {},
   "outputs": [],
   "source": [
    "year = int(input(\"Enter a year: \"))"
   ]
  },
  {
   "cell_type": "code",
   "execution_count": 4,
   "metadata": {},
   "outputs": [
    {
     "name": "stdout",
     "output_type": "stream",
     "text": [
      "1995 is not a leap year.\n"
     ]
    }
   ],
   "source": [
    "if (year % 4 == 0 and year % 100 != 0) or (year % 400 == 0):\n",
    "    print(f'{year} is a leap year.')\n",
    "else:\n",
    "    print(f'{year} is not a leap year.')"
   ]
  },
  {
   "cell_type": "markdown",
   "metadata": {},
   "source": [
    "# while"
   ]
  },
  {
   "cell_type": "markdown",
   "metadata": {},
   "source": [
    "###\n",
    "Buatah program yang menghitung total semua angka genap 1 sampai 100, gunakan 'while' loop"
   ]
  },
  {
   "cell_type": "code",
   "execution_count": 5,
   "metadata": {},
   "outputs": [],
   "source": [
    "total = 0\n",
    "num = 2"
   ]
  },
  {
   "cell_type": "code",
   "execution_count": 6,
   "metadata": {},
   "outputs": [
    {
     "name": "stdout",
     "output_type": "stream",
     "text": [
      "Sum of even numbers from 1 to 100: 2550\n"
     ]
    }
   ],
   "source": [
    "while num <= 100:\n",
    "    total += num\n",
    "    num += 2\n",
    "\n",
    "print('Sum of even numbers from 1 to 100:', total)\n"
   ]
  },
  {
   "cell_type": "markdown",
   "metadata": {},
   "source": [
    "###\n",
    "Buatlah program yang terus meminta input user untuk memasukkan password hingga password \"secret\" terinput."
   ]
  },
  {
   "cell_type": "code",
   "execution_count": 7,
   "metadata": {},
   "outputs": [],
   "source": [
    "password = 'secret'"
   ]
  },
  {
   "cell_type": "code",
   "execution_count": 8,
   "metadata": {},
   "outputs": [
    {
     "name": "stdout",
     "output_type": "stream",
     "text": [
      "Access granted!\n"
     ]
    }
   ],
   "source": [
    "while True:\n",
    "    user_input = input('Enter the password: ')\n",
    "    if user_input == password:\n",
    "        print('Access granted!')\n",
    "        break\n",
    "    else:\n",
    "        print('Incorrect Passwrod. Try again.')"
   ]
  },
  {
   "cell_type": "markdown",
   "metadata": {},
   "source": [
    "# for"
   ]
  },
  {
   "cell_type": "markdown",
   "metadata": {},
   "source": [
    "### \n",
    "Buatlah program yang membuat tabel multiplikasi untuk sebuah angka dari 1*num hingga 10*num. gunakan 'for' loop."
   ]
  },
  {
   "cell_type": "code",
   "execution_count": 9,
   "metadata": {},
   "outputs": [],
   "source": [
    "num = int(input('Enter a number: '))"
   ]
  },
  {
   "cell_type": "code",
   "execution_count": 10,
   "metadata": {},
   "outputs": [
    {
     "name": "stdout",
     "output_type": "stream",
     "text": [
      "99 x 1 = 99\n",
      "99 x 2 = 198\n",
      "99 x 3 = 297\n",
      "99 x 4 = 396\n",
      "99 x 5 = 495\n",
      "99 x 6 = 594\n",
      "99 x 7 = 693\n",
      "99 x 8 = 792\n",
      "99 x 9 = 891\n",
      "99 x 10 = 990\n"
     ]
    }
   ],
   "source": [
    "for i in range(1, 11):\n",
    "    print (f'{num} x {i} = {num * i}')\n"
   ]
  },
  {
   "cell_type": "markdown",
   "metadata": {},
   "source": [
    "###\n",
    "Buatlah program yang menghitung jumlah huruf hidup dalam sebuah string"
   ]
  },
  {
   "cell_type": "code",
   "execution_count": 11,
   "metadata": {},
   "outputs": [],
   "source": [
    "text = input('Enter a string: ')\n",
    "text = text.lower() # Convert the input to lowercase for case insentivity\n",
    "vowel_count = 0"
   ]
  },
  {
   "cell_type": "code",
   "execution_count": 15,
   "metadata": {},
   "outputs": [
    {
     "name": "stdout",
     "output_type": "stream",
     "text": [
      "Number of vowels in the string: 3\n"
     ]
    }
   ],
   "source": [
    "for char in text:\n",
    "    if char in \"aeiou\":\n",
    "        vowel_count += 1\n",
    "\n",
    "print(f'Number of vowels in the string: {vowel_count}')"
   ]
  },
  {
   "cell_type": "markdown",
   "metadata": {},
   "source": [
    "# Function"
   ]
  },
  {
   "cell_type": "markdown",
   "metadata": {},
   "source": [
    "###\n",
    "Buatlah sebuah fungsi bernama 'sapa' yang menerima satu argumen berupa nama dan mencetak pesan sapaan. Panggil fungsi tersebut dengan nama \"John\""
   ]
  },
  {
   "cell_type": "code",
   "execution_count": 16,
   "metadata": {},
   "outputs": [
    {
     "name": "stdout",
     "output_type": "stream",
     "text": [
      "Halo, John !\n"
     ]
    }
   ],
   "source": [
    "def sapa(nama):\n",
    "    print(f'Halo, {nama} !')\n",
    "\n",
    "sapa('John')"
   ]
  },
  {
   "cell_type": "markdown",
   "metadata": {},
   "source": [
    "###\n",
    "Buatlah sebuah fungsi 'kuadrat' yang menerima satu angka sebagai argumen dan mengembalikan kuadrat dari angka tersebut. Cobalah fungsi ini dengan beberapa angka."
   ]
  },
  {
   "cell_type": "code",
   "execution_count": 17,
   "metadata": {},
   "outputs": [
    {
     "name": "stdout",
     "output_type": "stream",
     "text": [
      "25\n"
     ]
    }
   ],
   "source": [
    "def kuadrat(angka) :\n",
    "    return angka ** 2 \n",
    "\n",
    "hasil = kuadrat(5)\n",
    "print(hasil)"
   ]
  },
  {
   "cell_type": "markdown",
   "metadata": {},
   "source": [
    "###\n",
    "Buatlah sebuah fungsi `hitung_luas_persegi` yang menerima dua argumen: panjang dan lebar. Fungsi ini mengembalikan luas persegi tersebut. Jika salah satu argumen tidak disediakan, gunakan nilai default 1.0."
   ]
  },
  {
   "cell_type": "code",
   "execution_count": 18,
   "metadata": {},
   "outputs": [
    {
     "name": "stdout",
     "output_type": "stream",
     "text": [
      "12\n"
     ]
    }
   ],
   "source": [
    "def hitung_luas_persegi(panjang = 1.0, lebar = 1.0):\n",
    "    return panjang *lebar\n",
    "\n",
    "luas = hitung_luas_persegi(4, 3)\n",
    "print(luas)"
   ]
  },
  {
   "cell_type": "markdown",
   "metadata": {},
   "source": [
    "###\n",
    "Buatlah sebuah fungsi `bentuk_nama` yang menerima dua argumen: nama_depan dan nama_belakang. Fungsi ini mengembalikan nama lengkap. Jika nama_belakang tidak disediakan, gunakan string kosong untuk nama_belakang."
   ]
  },
  {
   "cell_type": "code",
   "execution_count": 20,
   "metadata": {},
   "outputs": [
    {
     "name": "stdout",
     "output_type": "stream",
     "text": [
      "John Doe\n"
     ]
    }
   ],
   "source": [
    "def bentuk_nama(nama_depan, nama_belakang=''):\n",
    "    return f'{nama_depan} {nama_belakang}'\n",
    "\n",
    "nama = bentuk_nama('John', 'Doe')\n",
    "print(nama)"
   ]
  },
  {
   "cell_type": "markdown",
   "metadata": {},
   "source": [
    "###\n",
    "Buatlah sebuah fungsi `konversi_fahrenheit_ke_celcius` yang menerima suhu dalam Fahrenheit dan mengembalikan suhu tersebut dalam Celcius. Rumus konversi adalah: Celsius = (Fahrenheit - 32) * 5/9."
   ]
  },
  {
   "cell_type": "code",
   "execution_count": 21,
   "metadata": {},
   "outputs": [
    {
     "name": "stdout",
     "output_type": "stream",
     "text": [
      "37.0\n"
     ]
    }
   ],
   "source": [
    "def konversi_farenheit_ke_celcius(fahrenheit):\n",
    "    celsius = (fahrenheit - 32) * 5/9\n",
    "    return celsius\n",
    "suhu_celsius = konversi_farenheit_ke_celcius(98.6)\n",
    "print(suhu_celsius)"
   ]
  },
  {
   "cell_type": "markdown",
   "metadata": {},
   "source": [
    "###\n",
    "Buatlah sebuah fungsi `hitung_pangkat` yang menerima dua argumen: angka dan pangkat. Fungsi ini mengembalikan hasil dari angka pangkat pangkat.22\n"
   ]
  },
  {
   "cell_type": "code",
   "execution_count": 22,
   "metadata": {},
   "outputs": [
    {
     "name": "stdout",
     "output_type": "stream",
     "text": [
      "8\n"
     ]
    }
   ],
   "source": [
    "def hitung_pangkat(angka, pangkat):\n",
    "    hasil = 1\n",
    "    for _ in range(pangkat) :\n",
    "        hasil *= angka\n",
    "    return hasil\n",
    "pangkat = hitung_pangkat(2,3)\n",
    "print(pangkat)"
   ]
  },
  {
   "cell_type": "markdown",
   "metadata": {},
   "source": [
    "# module - membuat module"
   ]
  },
  {
   "cell_type": "code",
   "execution_count": null,
   "metadata": {},
   "outputs": [],
   "source": [
    "# my_module.py\n",
    "\n",
    "def greet(name):\n",
    "    return f'Hello, {name}!'\n",
    "pi = 3.14159265359\n",
    "\n",
    "def square (x):\n",
    "    return x ** 2"
   ]
  },
  {
   "cell_type": "code",
   "execution_count": null,
   "metadata": {},
   "outputs": [],
   "source": [
    "# main.py\n",
    "import my_module\n",
    "\n",
    "# Menggunakan fungsi dari my_module\n",
    "message = my_module.greet('Alice')\n",
    "print(message)\n",
    "\n",
    "# Menggunakan variabel dari my_module\n",
    "radius = 5\n",
    "area = my_module.pi * my_module.square(radius)\n",
    "print(f'Luas lingkaran dengan radius {radius} adalah {area:.2f}')\n"
   ]
  },
  {
   "cell_type": "markdown",
   "metadata": {},
   "source": [
    "# script"
   ]
  },
  {
   "cell_type": "markdown",
   "metadata": {},
   "source": [
    "###\n",
    "**Kalkulator Sederhana**\n",
    "\n",
    "Buatlah sebuah skrip Python yang meminta pengguna untuk memasukkan dua angka dan operasi matematika (+, -, *, /). Skrip tersebut kemudian menghitung dan mencetak hasil operasi tersebut.28\n"
   ]
  },
  {
   "cell_type": "code",
   "execution_count": null,
   "metadata": {},
   "outputs": [],
   "source": [
    "def tambah(x, y):\n",
    "    return x + y\n",
    "\n",
    "def kurang(x, y):\n",
    "    return x - y\n",
    "\n",
    "def kali(x, y):\n",
    "    return x * y\n",
    "\n",
    "def bagi(x, y):\n",
    "    if y == 0:\n",
    "        return \"Tidak bisa dibagi oleh 0\"\n",
    "    return x / y\n",
    "\n",
    "while True:\n",
    "    print(\"Pilih operasi:\")\n",
    "    print(\"1. Tambah\")\n",
    "    print(\"2. Kurang\")\n",
    "    print(\"3. Kali\")\n",
    "    print(\"4. Bagi\")\n",
    "    print(\"5. Keluar\")\n",
    "\n",
    "    pilihan = input(\"Masukkan nomor operasi (1/2/3/4/5): \")\n",
    "\n",
    "    if pilihan == '5':\n",
    "        print(\"Keluar dari kalkulator\")\n",
    "        break\n",
    "\n",
    "    angka1 = float(input(\"Masukkan angka pertama: \"))\n",
    "    angka2 = float(input(\"Masukkan angka kedua: \"))\n",
    "\n",
    "    if pilihan == '1':\n",
    "        print(\"Hasil:\", tambah(angka1, angka2))\n",
    "    elif pilihan == '2':\n",
    "        print(\"Hasil:\", kurang(angka1, angka2))\n",
    "    elif pilihan == '3':\n",
    "        print(\"Hasil:\", kali(angka1, angka2))\n",
    "    elif pilihan == '4':\n",
    "        print(\"Hasil:\", bagi(angka1, angka2))\n",
    "    else:\n",
    "        print(\"Pilihan tidak valid\")\n"
   ]
  },
  {
   "cell_type": "markdown",
   "metadata": {},
   "source": [
    "###\n",
    "**Daftar Belanja**\n",
    "\n",
    "Buatlah skrip Python yang memungkinkan pengguna untuk membuat daftar belanja. Pengguna harus dapat menambahkan, menghapus, dan melihat item pada daftar belanja.30\n"
   ]
  },
  {
   "cell_type": "code",
   "execution_count": 28,
   "metadata": {},
   "outputs": [
    {
     "name": "stdout",
     "output_type": "stream",
     "text": [
      "Apa yang ingin Anda lakukan?\n",
      "1. Tambah item ke daftar belanja\n",
      "2. Hapus item dari daftar belanja\n",
      "3. Tampilkan daftar belanja\n",
      "4. Keluar\n"
     ]
    }
   ],
   "source": [
    "shopping_list = 1\n",
    "\n",
    "def tambah_item(item):\n",
    "    shopping_list.append(item)\n",
    "    print(f'{item} telah ditambahkan ke daftar belanja.')\n",
    "\n",
    "def hapus_item(item):\n",
    "    if item in shopping_list:\n",
    "        shopping_list.remove(item)\n",
    "        print(f'{item} telah dihapus dari daftar belanja.')\n",
    "    else:\n",
    "        print(f'{item} tidak ditemukan dalam daftar belanja.')\n",
    "\n",
    "def tampilkan_daftar():\n",
    "    print('Daftar Belanja: ')\n",
    "    for item in shopping_list:\n",
    "        print('-', item)\n",
    "\n",
    "while True:\n",
    "    print('Apa yang ingin Anda lakukan?')\n",
    "    print('1. Tambah item ke daftar belanja')\n",
    "    print('2. Hapus item dari daftar belanja')\n",
    "    print('3. Tampilkan daftar belanja')\n",
    "    print('4. Keluar')\n",
    "\n",
    "    pilihan = input('Pilih tindakan (1/2/3/4): ')\n",
    "\n",
    "    if pilihan == '1' :\n",
    "        item = input ('Masukkan item yang ingin ditambahkan: ')\n",
    "        tambah_item(item)\n",
    "    elif pilihan == '2' :\n",
    "        item = input ('Masukkan item yang ingin dihapus: ')\n",
    "        hapus_item(item)\n",
    "    elif pilihan == '3' :\n",
    "        tampilkan_daftar()\n",
    "    elif pilihan == '4' :\n",
    "        item = input ('Keluar dari daftar belanja ')\n",
    "        break\n",
    "    else:\n",
    "        print('Pilihan tidak valid')\n",
    "\n",
    "    "
   ]
  },
  {
   "cell_type": "markdown",
   "metadata": {},
   "source": [
    "###\n",
    "**Kalkulator BMI**\n",
    "\n",
    " (Body Mass Index)Buatlah sebuah skrip Python yang meminta pengguna untuk memasukkan berat (kg) dan tinggi (cm), kemudian menghitung dan mencetak BMI mereka bersama dengan kategori BMI (Kurus, Normal, Gemuk).32\n"
   ]
  },
  {
   "cell_type": "code",
   "execution_count": 29,
   "metadata": {},
   "outputs": [
    {
     "name": "stdout",
     "output_type": "stream",
     "text": [
      "BMI Anda adalah 19.96 (Normal).\n"
     ]
    }
   ],
   "source": [
    "def hitung_bmi(berat, tinggi):\n",
    "    tinggi_m = tinggi / 100\n",
    "    bmi = berat / (tinggi_m ** 2)\n",
    "    return bmi\n",
    "\n",
    "def kategori_bmi(bmi):\n",
    "    if bmi < 18.5:\n",
    "        return 'Kurus'\n",
    "    elif 18.5 <= bmi < 24.9:\n",
    "        return 'Normal'\n",
    "    elif 25 <= bmi < 29.9:\n",
    "        return 'Gemuk'\n",
    "    else:\n",
    "        return 'Obesitas'\n",
    "\n",
    "berat = float(input('Masukkan berat badan (kg): '))\n",
    "tinggi = float(input('Masukkan tinggi badan (cm): ')) \n",
    "\n",
    "bmi = hitung_bmi(berat,tinggi)\n",
    "kategori = kategori_bmi(bmi)\n",
    "\n",
    "print(f'BMI Anda adalah {bmi:.2f} ({kategori}).')"
   ]
  },
  {
   "cell_type": "markdown",
   "metadata": {},
   "source": [
    "###\n",
    "**Pencarian Kata dalam Teks**\n",
    "\n",
    "Buatlah skrip Python yang meminta pengguna untuk memasukkan sebuah kata atau frasa, dan kemudian mencari kata/frasa tersebut dalam teks yang telah ditentukan sebelumnya. Skrip tersebut harus memberi tahu pengguna apakah kata/frasa tersebut ditemukan atau tidak.34\n"
   ]
  },
  {
   "cell_type": "code",
   "execution_count": 30,
   "metadata": {},
   "outputs": [
    {
     "name": "stdout",
     "output_type": "stream",
     "text": [
      "'ada' ditemukan dalam teks.\n"
     ]
    }
   ],
   "source": [
    "teks = '''Ini adalah contoh teks.\n",
    "Teks ini diguakan untuk latihan pencarian kata.'''\n",
    "\n",
    "kata_cari = input('Masukkan kata yang ingin Anda cari: ')\n",
    "\n",
    "if kata_cari in teks:\n",
    "    print(f\"'{kata_cari}' ditemukan dalam teks.\")\n",
    "else: \n",
    "    print(f\"'{kata_cari}' tidak ditemukan dalam teks.\")"
   ]
  },
  {
   "cell_type": "markdown",
   "metadata": {},
   "source": [
    "###\n",
    "**Konversi Mata Uang**\n",
    "\n",
    "Buatlah skrip Python yang memungkinkan pengguna untuk mengonversi jumlah uang dari satu mata uang ke mata uang lainnya berdasarkan nilai tukar.36\n"
   ]
  },
  {
   "cell_type": "code",
   "execution_count": 31,
   "metadata": {},
   "outputs": [
    {
     "name": "stdout",
     "output_type": "stream",
     "text": [
      "12.0 USD setara dengan 174000.0 IDR.\n"
     ]
    }
   ],
   "source": [
    "def konversi_mata_uang(jumlah, nilai_tukar):\n",
    "    return jumlah * nilai_tukar\n",
    "\n",
    "nilai_tukar_usd_ke_idr = 14500 # Contoh nilai tikar USD ke IDR\n",
    "\n",
    "jumlah_usd = float(input('Masukkan jumlah dalam USD: '))\n",
    "jumlah_idr = konversi_mata_uang(jumlah_usd, nilai_tukar_usd_ke_idr)\n",
    "\n",
    "print(f'{jumlah_usd} USD setara dengan {jumlah_idr} IDR.')"
   ]
  },
  {
   "cell_type": "markdown",
   "metadata": {},
   "source": [
    "# read & write from excel"
   ]
  },
  {
   "cell_type": "markdown",
   "metadata": {},
   "source": [
    "###\n",
    "Buat program Python yang membaca data dari file Excel dan menampilkan data tersebut. Program ini juga harus memungkinkan pengguna untuk menambahkan data baru dan menyimpannya kembali ke file Excel."
   ]
  },
  {
   "cell_type": "code",
   "execution_count": null,
   "metadata": {},
   "outputs": [],
   "source": [
    "import pandas as pd\n",
    "\n",
    "def baca_data_excel(nama_file):\n",
    "    df = pd.read_excel(nama_file)\n",
    "    return df\n",
    "\n",
    "def tulis_data_excel(nama_file, df):\n",
    "    df.to_excel(nama_file, index=False)\n",
    "\n",
    "def main():\n",
    "    nama_file = 'produk.xlsx'\n",
    "    produk = baca_data_excel(nama_file)\n",
    "\n",
    "    print(\"Data Produk:\")\n",
    "    print(produk)\n",
    "\n",
    "    tambah_produk = input(\"Tambah produk baru? (y/n): \")\n",
    "\n",
    "    if tambah_produk.lower() == 'y':\n",
    "        nama_produk = input(\"Nama produk: \")\n",
    "        harga_produk = input(\"Harga produk (IDR): \")\n",
    "        stok_produk = input(\"Stok produk: \")\n",
    "\n",
    "        produk_baru = {'Nama Produk': nama_produk, 'Harga': harga_produk, 'Stok': stok_produk}\n",
    "        produk = produk.append(produk_baru, ignore_index=True)\n",
    "\n",
    "        tulis_data_excel(nama_file, produk)\n",
    "        print(\"Produk berhasil ditambahkan dan disimpan.\")\n",
    "\n",
    "if __name__ == \"__main__\":\n",
    "    main()\n"
   ]
  },
  {
   "cell_type": "markdown",
   "metadata": {},
   "source": [
    "###\n",
    "Buatlah program Python yang berinteraksi dengan database SQL (misalnya, SQLite) untuk membaca data dari tabel dan menambahkan data baru ke dalam tabel tersebut."
   ]
  },
  {
   "cell_type": "code",
   "execution_count": null,
   "metadata": {},
   "outputs": [],
   "source": [
    "import sqlite3\n",
    "\n",
    "# Fungsi untuk membaca data dari tabel\n",
    "def baca_data_sqlite(database_file):\n",
    "    connection = sqlite3.connect(database_file)\n",
    "    cursor = connection.cursor()\n",
    "    cursor.execute(\"SELECT * FROM produk\")\n",
    "    data = cursor.fetchall()\n",
    "    connection.close()\n",
    "    return data\n",
    "\n",
    "# Fungsi untuk menambahkan data ke dalam tabel\n",
    "def tambah_data_sqlite(database_file, nama_produk, harga, stok):\n",
    "    connection = sqlite3.connect(database_file)\n",
    "    cursor = connection.cursor()\n",
    "    cursor.execute(\"INSERT INTO produk (nama_produk, harga, stok) VALUES (?, ?, ?)\",\n",
    "                   (nama_produk, harga, stok))\n",
    "    connection.commit()\n",
    "    connection.close()\n",
    "\n",
    "def main():\n",
    "    database_file = 'produk.db'\n",
    "    produk = baca_data_sqlite(database_file)\n",
    "\n",
    "    print(\"Data Produk:\")\n",
    "    for item in produk:\n",
    "        print(f\"{item[1]}: {item[2]} IDR, Stok: {item[3]}\")\n",
    "\n",
    "    tambah_produk = input(\"Tambah produk baru? (y/n): \")\n",
    "\n",
    "    if tambah_produk.lower() == 'y':\n",
    "        nama_produk = input(\"Nama produk: \")\n",
    "        harga_produk = input(\"Harga produk (IDR): \")\n",
    "        stok_produk = input(\"Stok produk: \")\n",
    "\n",
    "        tambah_data_sqlite(database_file, nama_produk, harga_produk, stok_produk)\n",
    "        print(\"Produk berhasil ditambahkan dan disimpan.\")\n",
    "\n",
    "if __name__ == \"__main__\":\n",
    "    main()"
   ]
  },
  {
   "cell_type": "markdown",
   "metadata": {},
   "source": [
    "###\n",
    "Buatlah sebuah program Python yang membaca data dari file CSV yang berisi informasi produk (contoh: nama produk, harga, stok) dan menampilkannya di layar. \n",
    "\n",
    "Setelah itu, program ini harus memungkinkan pengguna untuk menambahkan produk baru dan menyimpannya kembali ke file CSV."
   ]
  },
  {
   "cell_type": "code",
   "execution_count": null,
   "metadata": {},
   "outputs": [],
   "source": [
    "import csv\n",
    "\n",
    "def baca_data_csv(nama_file):\n",
    "    data = []\n",
    "    with open(nama_file, mode='r') as file:\n",
    "        csv_reader = csv.DictReader(file)\n",
    "        for row in csv_reader:\n",
    "            data.append(row)\n",
    "    return data\n",
    "\n",
    "def tulis_data_csv(nama_file, data):\n",
    "    with open(nama_file, mode='w', newline='') as file:\n",
    "        fieldnames = data[0].keys()\n",
    "        writer = csv.DictWriter(file, fieldnames=fieldnames)\n",
    "        writer.writeheader()\n",
    "        writer.writerows(data)\n",
    "\n",
    "def main():\n",
    "    nama_file = 'produk.csv'\n",
    "    produk = baca_data_csv(nama_file)\n",
    "\n",
    "    print(\"Data Produk:\")\n",
    "    for item in produk:\n",
    "        print(f\"{item['Nama Produk']}: {item['Harga']} IDR, Stok: {item['Stok']}\")\n",
    "\n",
    "    tambah_produk = input(\"Tambah produk baru? (y/n): \")\n",
    "\n",
    "    if tambah_produk.lower() == 'y':\n",
    "        nama_produk = input(\"Nama produk: \")\n",
    "        harga_produk = input(\"Harga produk (IDR): \")\n",
    "        stok_produk = input(\"Stok produk: \")\n",
    "\n",
    "        produk_baru = {'Nama Produk': nama_produk, 'Harga': harga_produk, 'Stok': stok_produk}\n",
    "        produk.append(produk_baru)\n",
    "        tulis_data_csv(nama_file, produk)\n",
    "        print(\"Produk berhasil ditambahkan dan disimpan.\")\n",
    "\n",
    "if __name__ == \"__main__\":\n",
    "    main()\n"
   ]
  }
 ],
 "metadata": {
  "kernelspec": {
   "display_name": "base",
   "language": "python",
   "name": "python3"
  },
  "language_info": {
   "codemirror_mode": {
    "name": "ipython",
    "version": 3
   },
   "file_extension": ".py",
   "mimetype": "text/x-python",
   "name": "python",
   "nbconvert_exporter": "python",
   "pygments_lexer": "ipython3",
   "version": "3.11.5"
  }
 },
 "nbformat": 4,
 "nbformat_minor": 2
}
